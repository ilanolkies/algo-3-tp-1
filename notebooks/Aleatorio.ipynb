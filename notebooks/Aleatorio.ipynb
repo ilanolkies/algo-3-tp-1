{
 "cells": [
  {
   "cell_type": "markdown",
   "metadata": {},
   "source": [
    "# Aleatorio\n",
    "\n",
    "Vamos a crear instancias aleatorias y correr el algoritmo. Veamos cual es mejor en el caso promedio :D"
   ]
  },
  {
   "cell_type": "code",
   "execution_count": 29,
   "metadata": {},
   "outputs": [],
   "source": [
    "!rm -rf ../instancias/aleatorio # borra la carpeta\n",
    "!mkdir ../instancias/aleatorio # crea la carpeta para instancias aleatorias"
   ]
  },
  {
   "cell_type": "markdown",
   "metadata": {},
   "source": [
    "`gen` es un generador de instancias"
   ]
  },
  {
   "cell_type": "code",
   "execution_count": 30,
   "metadata": {},
   "outputs": [],
   "source": [
    "import numpy as np\n",
    "\n",
    "def gen(\n",
    "    k = 100,\n",
    "    _R = (500, 1000),\n",
    "    n = 10,\n",
    "    _w = (1, 100),\n",
    "    _r = (800, 1000),\n",
    "    _path = \"../instancias/aleatorio/{}_{}.in\"\n",
    "):\n",
    "    for i in range(k):\n",
    "        R = np.random.randint((_R[1] - _R[0])) + _R[0]\n",
    "        w = np.random.randint((_w[1] - _w[0]), size = n) + _w[0]\n",
    "        r = np.random.randint((_r[1] - _r[0]), size = n) + _r[0]\n",
    "\n",
    "        f = open(_path.format(n, i), \"x\")\n",
    "        f.write(\"{} {}\\n\".format(n, R))\n",
    "        for i in range(n-1):\n",
    "            f.write(\"{} {}\\n\".format(w[i], r[i]))\n",
    "        f.write(\"{} {}\".format(w[n-1], r[n-1]))\n",
    "        f.close()"
   ]
  },
  {
   "cell_type": "markdown",
   "metadata": {},
   "source": [
    "Vamos a variar $n$ de 1 a 1000, de 5 en 5."
   ]
  },
  {
   "cell_type": "code",
   "execution_count": 31,
   "metadata": {},
   "outputs": [],
   "source": [
    "ns = np.arange(1, 40, 5)\n",
    "_k = 5"
   ]
  },
  {
   "cell_type": "code",
   "execution_count": 32,
   "metadata": {},
   "outputs": [],
   "source": [
    "for i in ns:\n",
    "    gen(n = i, k = _k)"
   ]
  },
  {
   "cell_type": "code",
   "execution_count": null,
   "metadata": {},
   "outputs": [],
   "source": [
    "import time\n",
    "import os\n",
    "\n",
    "path = \"../instancias/aleatorio/1_0.in\"\n",
    "\n",
    "os.system(\"g++ ../src/main.cpp -o ../bin/algo3-tp1\")\n",
    "\n",
    "perf_fb = []\n",
    "perf_bt = []\n",
    "perf_pd = []\n",
    "\n",
    "for i in ns:\n",
    "    el_fb = 0\n",
    "    el_bt = 0\n",
    "    el_pd = 0\n",
    "\n",
    "    for j in range(_k):\n",
    "        start = time.time()\n",
    "        os.system(\"./../bin/algo3-tp1 ../instancias/aleatorio/{}_{}.in 1 0\".format(i, j))\n",
    "        el_fb += time.time() - start\n",
    "\n",
    "        start = time.time()\n",
    "        os.system(\"./../bin/algo3-tp1 ../instancias/aleatorio/{}_{}.in 2 0\".format(i, j))\n",
    "        el_bt += time.time() - start\n",
    "\n",
    "        start = time.time()\n",
    "        os.system(\"./../bin/algo3-tp1 ../instancias/aleatorio/{}_{}.in 3 0\".format(i, j))\n",
    "        el_pd += time.time() - start \n",
    "\n",
    "        \n",
    "    perf_fb.append(el_fb / _k)\n",
    "    perf_bt.append(el_bt / _k)\n",
    "    perf_pd.append(el_pd / _k)\n"
   ]
  },
  {
   "cell_type": "code",
   "execution_count": 28,
   "metadata": {},
   "outputs": [
    {
     "data": {
      "image/png": "[encoded data removed]",
      "text/plain": [
       "<Figure size 432x288 with 1 Axes>"
      ]
     },
     "metadata": {
      "needs_background": "light"
     },
     "output_type": "display_data"
    }
   ],
   "source": [
    "import matplotlib.pyplot as plt\n",
    "\n",
    "# Plot the data\n",
    "plt.plot(ns, perf_fb, color = 'red', label = \"Fuerza Bruta\")\n",
    "plt.plot(ns, perf_bt, color = 'blue', label = \"Backtracking\")\n",
    "plt.plot(ns, perf_pd, color = 'green', label = \"Programación dinámica\")\n",
    "\n",
    "plt.legend()\n",
    "\n",
    "# Show the plot\n",
    "plt.show()"
   ]
  },
  {
   "cell_type": "code",
   "execution_count": null,
   "metadata": {},
   "outputs": [],
   "source": []
  },
  {
   "cell_type": "code",
   "execution_count": null,
   "metadata": {},
   "outputs": [],
   "source": []
  }
 ],
 "metadata": {
  "kernelspec": {
   "display_name": "Python 3",
   "language": "python",
   "name": "python3"
  },
  "language_info": {
   "codemirror_mode": {
    "name": "ipython",
    "version": 3
   },
   "file_extension": ".py",
   "mimetype": "text/x-python",
   "name": "python",
   "nbconvert_exporter": "python",
   "pygments_lexer": "ipython3",
   "version": "3.7.4"
  }
 },
 "nbformat": 4,
 "nbformat_minor": 4
}

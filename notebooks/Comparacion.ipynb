{
 "cells": [
  {
   "cell_type": "markdown",
   "metadata": {},
   "source": [
    "# Comparación\n",
    "\n",
    "Vamos a hacer una simple comparación entre los tres algoritmos en casos distribuidos aleatoriamente. Esto nos permitirá ver que algoritmo se comporta mejor.\n",
    "\n",
    "Simple."
   ]
  },
  {
   "cell_type": "code",
   "execution_count": 10,
   "metadata": {},
   "outputs": [],
   "source": [
    "!mkdir ../instancias\n",
    "!mkdir ../instancias/comparacion # crea la carpeta para instancias aleatorias"
   ]
  },
  {
   "cell_type": "markdown",
   "metadata": {},
   "source": [
    "`gen` es un generador de instancias.\n",
    "- `k` es la cantidad de instancias que genera\n",
    "- `_R` el rango para los valores aleatorios de $R$\n",
    "- `n` la cantidad de elementos\n",
    "- `_w` y `_r` los rangos para los valores aleatorios de $w_i$ y $r_i$\n",
    "- "
   ]
  },
  {
   "cell_type": "code",
   "execution_count": 11,
   "metadata": {},
   "outputs": [],
   "source": [
    "import numpy as np\n",
    "\n",
    "def gen(\n",
    "    ns,\n",
    "    k = 100,\n",
    "    _R = (500, 1000),\n",
    "    _w = (1, 100),\n",
    "    _r = (800, 1000),\n",
    "    _path = \"../instancias/comparacion/\"\n",
    "):\n",
    "    for i in ns:\n",
    "        for j in range(k):\n",
    "            R = np.random.randint((_R[1] - _R[0])) + _R[0]\n",
    "            w = np.random.randint((_w[1] - _w[0]), size = i) + _w[0]\n",
    "            r = np.random.randint((_r[1] - _r[0]), size = i) + _r[0]\n",
    "            f = open((_path + \"{}_{}.in\").format(i, j), \"x\")\n",
    "            f.write(\"{} {}\\n\".format(i, R))\n",
    "            for l in range(i-1):\n",
    "                f.write(\"{} {}\\n\".format(w[l], r[l]))\n",
    "            f.write(\"{} {}\".format(w[i-1], r[i-1]))\n",
    "            f.close()"
   ]
  },
  {
   "cell_type": "markdown",
   "metadata": {},
   "source": [
    "Vamos a variar $n$ de 1 a 25."
   ]
  },
  {
   "cell_type": "code",
   "execution_count": 12,
   "metadata": {},
   "outputs": [],
   "source": [
    "path = \"../instancias/comparacion/\"\n",
    "ns = np.arange(1, 25)\n",
    "_k = 100\n",
    "\n",
    "gen(ns, _path = path, k = _k)"
   ]
  },
  {
   "cell_type": "markdown",
   "metadata": {},
   "source": [
    "Compilamos"
   ]
  },
  {
   "cell_type": "code",
   "execution_count": 13,
   "metadata": {},
   "outputs": [
    {
     "data": {
      "text/plain": [
       "0"
      ]
     },
     "execution_count": 13,
     "metadata": {},
     "output_type": "execute_result"
    }
   ],
   "source": [
    "import os\n",
    "\n",
    "os.system(\"g++ ../src/main.cpp -o ../algo3-tp1\")"
   ]
  },
  {
   "cell_type": "markdown",
   "metadata": {},
   "source": [
    "Vamos a calcular el tiempo de ejcución promedio de $_k$ instancias aleatorias, para cada $n$."
   ]
  },
  {
   "cell_type": "code",
   "execution_count": 14,
   "metadata": {},
   "outputs": [],
   "source": [
    "import time"
   ]
  },
  {
   "cell_type": "code",
   "execution_count": 15,
   "metadata": {},
   "outputs": [],
   "source": [
    "perf_fb = [] # tiempos de ejecucion de fb\n",
    "perf_bt = [] # tiempos de ejecucion de bt\n",
    "perf_pd = [] # tiempos de ejecucion de pd\n",
    "\n",
    "for i in ns:\n",
    "    el_fb = 0 # acumuladores de tiempos de ejecucion\n",
    "    el_bt = 0\n",
    "    el_pd = 0\n",
    "\n",
    "    for j in range(_k):\n",
    "        start = time.time()\n",
    "        os.system(\"./../algo3-tp1 ./../instancias/comparacion/{}_{}.in 1\".format(i, j))\n",
    "        el_fb += time.time() - start\n",
    "\n",
    "        start = time.time()\n",
    "        os.system(\"./../algo3-tp1 ./../instancias/comparacion/{}_{}.in 2\".format(i, j))\n",
    "        el_bt += time.time() - start\n",
    "\n",
    "        start = time.time()\n",
    "        os.system(\"./../algo3-tp1 ./../instancias/comparacion/{}_{}.in 3\".format(i, j))\n",
    "        el_pd += time.time() - start \n",
    "\n",
    "        \n",
    "    perf_fb.append(el_fb / _k)\n",
    "    perf_bt.append(el_bt / _k)\n",
    "    perf_pd.append(el_pd / _k)\n"
   ]
  },
  {
   "cell_type": "code",
   "execution_count": 16,
   "metadata": {},
   "outputs": [
    {
     "data": {
      "image/png": "[encoded data removed]",
      "text/plain": [
       "<Figure size 432x288 with 1 Axes>"
      ]
     },
     "metadata": {
      "needs_background": "light"
     },
     "output_type": "display_data"
    }
   ],
   "source": [
    "import matplotlib.pyplot as plt\n",
    "\n",
    "# Plot the data\n",
    "plt.plot(ns, perf_fb, color = 'red', label = \"Fuerza Bruta\")\n",
    "plt.plot(ns, perf_bt, color = 'blue', label = \"Backtracking\")\n",
    "plt.plot(ns, perf_pd, color = 'green', label = \"Programación dinámica\")\n",
    "\n",
    "plt.xlabel(\"n - cant. total de productos\")\n",
    "plt.ylabel(\"tiempo de ejec. promedio (s)\")\n",
    "plt.legend()\n",
    "\n",
    "# Show the plot\n",
    "plt.show()"
   ]
  },
  {
   "cell_type": "markdown",
   "metadata": {},
   "source": [
    "Esto nos muestra claramente que el algoritmo de fuerza bruta es peor que los otros dos. Vamos a comprar los otros dos en detalle para más instancias. El algoritmo de fuerza bruta lleva mucho timepo..."
   ]
  },
  {
   "cell_type": "code",
   "execution_count": 17,
   "metadata": {},
   "outputs": [
    {
     "name": "stdout",
     "output_type": "stream",
     "text": [
      "mkdir: ../instancias: File exists\r\n"
     ]
    }
   ],
   "source": [
    "!mkdir ../instancias\n",
    "!mkdir ../instancias/comparacion2 # crea la carpeta para instancias aleatorias\n",
    "path = \"../instancias/comparacion2/\"\n",
    "ns = np.arange(14, 35, 1)\n",
    "_k = 10\n",
    "\n",
    "gen(ns, _path = path, k = _k)"
   ]
  },
  {
   "cell_type": "code",
   "execution_count": 18,
   "metadata": {},
   "outputs": [],
   "source": [
    "perf_bt = [] # tiempos de ejecucion de bt\n",
    "perf_pd = [] # tiempos de ejecucion de pd\n",
    "\n",
    "for i in ns:\n",
    "    el_bt = 0 # acumuladores de tiempos de ejecucion\n",
    "    el_pd = 0\n",
    "\n",
    "    for j in range(_k):\n",
    "        start = time.time()\n",
    "        os.system(\"./../algo3-tp1 ./../instancias/comparacion2/{}_{}.in 2\".format(i, j))\n",
    "        el_bt += time.time() - start\n",
    "\n",
    "        start = time.time()\n",
    "        os.system(\"./../algo3-tp1 ./../instancias/comparacion2/{}_{}.in 3\".format(i, j))\n",
    "        el_pd += time.time() - start \n",
    "\n",
    "        \n",
    "    perf_bt.append(el_bt / _k)\n",
    "    perf_pd.append(el_pd / _k)"
   ]
  },
  {
   "cell_type": "code",
   "execution_count": 21,
   "metadata": {},
   "outputs": [
    {
     "data": {
      "image/png": "[encoded data removed]",
      "text/plain": [
       "<Figure size 432x288 with 1 Axes>"
      ]
     },
     "metadata": {
      "needs_background": "light"
     },
     "output_type": "display_data"
    }
   ],
   "source": [
    "# Plot the data\n",
    "plt.plot(ns, perf_bt, color = 'blue', label = \"Backtracking\")\n",
    "plt.plot(ns, perf_pd, color = 'green', label = \"Programación dinámica\")\n",
    "\n",
    "plt.xlabel(\"n - cant. total de productos\")\n",
    "plt.ylabel(\"tiempo de ejec. promedio (s)\")\n",
    "plt.legend()\n",
    "\n",
    "# Show the plot\n",
    "plt.show()"
   ]
  },
  {
   "cell_type": "code",
   "execution_count": null,
   "metadata": {},
   "outputs": [],
   "source": []
  }
 ],
 "metadata": {
  "kernelspec": {
   "display_name": "Python 3",
   "language": "python",
   "name": "python3"
  },
  "language_info": {
   "codemirror_mode": {
    "name": "ipython",
    "version": 3
   },
   "file_extension": ".py",
   "mimetype": "text/x-python",
   "name": "python",
   "nbconvert_exporter": "python",
   "pygments_lexer": "ipython3",
   "version": "3.6.5"
  }
 },
 "nbformat": 4,
 "nbformat_minor": 4
}

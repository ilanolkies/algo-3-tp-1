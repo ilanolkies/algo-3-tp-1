{
 "cells": [
  {
   "cell_type": "markdown",
   "metadata": {},
   "source": [
    "# Comparación\n",
    "\n",
    "Vamos a hacer una simple comparación entre los tres algoritmos en casos distribuidos aleatoriamente. Esto nos permitirá ver que algoritmo se comporta mejor.\n",
    "\n",
    "Simple."
   ]
  },
  {
   "cell_type": "code",
   "execution_count": 32,
   "metadata": {},
   "outputs": [
    {
     "name": "stdout",
     "output_type": "stream",
     "text": [
      "mkdir: ../instancias: File exists\r\n"
     ]
    }
   ],
   "source": [
    "!mkdir ../instancias\n",
    "!mkdir ../instancias/comparacion # crea la carpeta para instancias aleatorias"
   ]
  },
  {
   "cell_type": "markdown",
   "metadata": {},
   "source": [
    "`gen` es un generador de instancias.\n",
    "- `k` es la cantidad de instancias que genera\n",
    "- `_R` el rango para los valores aleatorios de $R$\n",
    "- `n` la cantidad de elementos\n",
    "- `_w` y `_r` los rangos para los valores aleatorios de $w_i$ y $r_i$\n",
    "- "
   ]
  },
  {
   "cell_type": "code",
   "execution_count": 33,
   "metadata": {},
   "outputs": [],
   "source": [
    "import numpy as np\n",
    "\n",
    "def gen(\n",
    "    ns,\n",
    "    k = 100,\n",
    "    _R = (500, 1000),\n",
    "    _w = (1, 100),\n",
    "    _r = (800, 1000),\n",
    "    _path = \"../instancias/comparacion/\"\n",
    "):\n",
    "    for i in ns:\n",
    "        for j in range(k):\n",
    "            R = np.random.randint((_R[1] - _R[0])) + _R[0]\n",
    "            w = np.random.randint((_w[1] - _w[0]), size = i) + _w[0]\n",
    "            r = np.random.randint((_r[1] - _r[0]), size = i) + _r[0]\n",
    "\n",
    "            f = open((_path + \"{}_{}.in\").format(i, j), \"x\")\n",
    "            f.write(\"{} {}\\n\".format(i, R))\n",
    "            for k in range(i-1):\n",
    "                f.write(\"{} {}\\n\".format(w[k], r[k]))\n",
    "            f.write(\"{} {}\".format(w[i-1], r[i-1]))\n",
    "            f.close()"
   ]
  },
  {
   "cell_type": "markdown",
   "metadata": {},
   "source": [
    "Vamos a variar $n$ de 1 a 20."
   ]
  },
  {
   "cell_type": "code",
   "execution_count": 34,
   "metadata": {},
   "outputs": [],
   "source": [
    "path = \"../instancias/comparacion/\"\n",
    "ns = np.arange(1, 30, 3)\n",
    "_k = 100\n",
    "\n",
    "gen(ns, k = _k, _path = path)"
   ]
  },
  {
   "cell_type": "markdown",
   "metadata": {},
   "source": [
    "Compilamos"
   ]
  },
  {
   "cell_type": "code",
   "execution_count": 35,
   "metadata": {},
   "outputs": [
    {
     "data": {
      "text/plain": [
       "0"
      ]
     },
     "execution_count": 35,
     "metadata": {},
     "output_type": "execute_result"
    }
   ],
   "source": [
    "import os\n",
    "\n",
    "os.system(\"g++ ../src/main.cpp -o ../algo3-tp1\")"
   ]
  },
  {
   "cell_type": "code",
   "execution_count": null,
   "metadata": {},
   "outputs": [],
   "source": []
  },
  {
   "cell_type": "code",
   "execution_count": 41,
   "metadata": {},
   "outputs": [],
   "source": [
    "import time\n",
    "\n",
    "perf_fb = [] # tiempos de ejecucion de fb\n",
    "perf_bt = [] # tiempos de ejecucion de bt\n",
    "perf_pd = [] # tiempos de ejecucion de pd\n",
    "\n",
    "for i in ns:\n",
    "    el_fb = 0 # acumuladores de tiempos de ejecucion\n",
    "    el_bt = 0\n",
    "    el_pd = 0\n",
    "\n",
    "    for j in range(_k):\n",
    "        start = time.time()\n",
    "        os.system(\"./../bin/algo3-tp1 \"+path+\"{}_{}.in 1\".format(i, j))\n",
    "        el_fb += time.time() - start\n",
    "\n",
    "        start = time.time()\n",
    "        os.system(\"./../bin/algo3-tp1 \"+path+\"{}_{}.in 2\".format(i, j))\n",
    "        el_bt += time.time() - start\n",
    "\n",
    "        start = time.time()\n",
    "        os.system(\"./../bin/algo3-tp1 \"+path+\"{}_{}.in 3\".format(i, j))\n",
    "        el_pd += time.time() - start \n",
    "\n",
    "        \n",
    "    perf_fb.append(el_fb / _k)\n",
    "    perf_bt.append(el_bt / _k)\n",
    "    perf_pd.append(el_pd / _k)\n"
   ]
  },
  {
   "cell_type": "code",
   "execution_count": 42,
   "metadata": {},
   "outputs": [
    {
     "data": {
      "image/png": "[encoded data removed]",
      "text/plain": [
       "<Figure size 432x288 with 1 Axes>"
      ]
     },
     "metadata": {
      "needs_background": "light"
     },
     "output_type": "display_data"
    }
   ],
   "source": [
    "import matplotlib.pyplot as plt\n",
    "\n",
    "# Plot the data\n",
    "plt.plot(ns, perf_fb, color = 'red', label = \"Fuerza Bruta\")\n",
    "plt.plot(ns, perf_bt, color = 'blue', label = \"Backtracking\")\n",
    "plt.plot(ns, perf_pd, color = 'green', label = \"Programación dinámica\")\n",
    "\n",
    "plt.legend()\n",
    "\n",
    "# Show the plot\n",
    "plt.show()"
   ]
  },
  {
   "cell_type": "code",
   "execution_count": null,
   "metadata": {},
   "outputs": [],
   "source": []
  }
 ],
 "metadata": {
  "kernelspec": {
   "display_name": "Python 3",
   "language": "python",
   "name": "python3"
  },
  "language_info": {
   "codemirror_mode": {
    "name": "ipython",
    "version": 3
   },
   "file_extension": ".py",
   "mimetype": "text/x-python",
   "name": "python",
   "nbconvert_exporter": "python",
   "pygments_lexer": "ipython3",
   "version": "3.6.5"
  }
 },
 "nbformat": 4,
 "nbformat_minor": 4
}

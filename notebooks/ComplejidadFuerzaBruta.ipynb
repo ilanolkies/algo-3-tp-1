{
 "cells": [
  {
   "cell_type": "markdown",
   "metadata": {},
   "source": [
    "# Complejidad de fuerza bruta\n",
    "\n",
    "Vamos a ver que la complejidad de fuerza bruta es $\\Theta(2^n)$.\n",
    "\n",
    "Para eso necesitamos:\n",
    "1. Generar instancias aleatorias para distintos $n$\n",
    "2. Medir el tiempo ed ejecución de fuera bruta\n",
    "3. Comprar los resultados con una función $f(x) = 2^n$"
   ]
  },
  {
   "cell_type": "code",
   "execution_count": 2,
   "metadata": {},
   "outputs": [
    {
     "name": "stdout",
     "output_type": "stream",
     "text": [
      "mkdir: ../instancias: File exists\n",
      "mkdir: ../instancias/complejidadfb: File exists\n"
     ]
    }
   ],
   "source": [
    "import numpy as np\n",
    "\n",
    "!mkdir ../instancias\n",
    "!mkdir ../instancias/complejidadfb\n",
    "\n",
    "ns = np.arange(1, 26)\n",
    "k = 100\n",
    "_R = (500, 1000)\n",
    "_w = (1, 100)\n",
    "_r = (800, 1000)\n",
    "\n",
    "for i in ns:\n",
    "        for j in range(k):\n",
    "            R = np.random.randint((_R[1] - _R[0])) + _R[0]\n",
    "            w = np.random.randint((_w[1] - _w[0]), size = i) + _w[0]\n",
    "            r = np.random.randint((_r[1] - _r[0]), size = i) + _r[0]\n",
    "            f = open(\"../instancias/complejidadfb/{}_{}.in\".format(i, j), \"x\")\n",
    "            f.write(\"{} {}\\n\".format(i, R))\n",
    "            for l in range(i-1):\n",
    "                f.write(\"{} {}\\n\".format(w[l], r[l]))\n",
    "            f.write(\"{} {}\".format(w[i-1], r[i-1]))\n",
    "            f.close()"
   ]
  },
  {
   "cell_type": "markdown",
   "metadata": {},
   "source": [
    "Ya tenemos 100 instancias aleatorias para cada $n$ de 1 a 25, ejecutemos!"
   ]
  },
  {
   "cell_type": "code",
   "execution_count": null,
   "metadata": {},
   "outputs": [],
   "source": [
    "import time\n",
    "import os\n",
    "\n",
    "tiempos = [] # tiempos de ejecucion de fb\n",
    "\n",
    "for i in ns:\n",
    "    tiempo = 0 # acumuladores de tiempos de ejecucion\n",
    "\n",
    "    for j in range(k):\n",
    "        start = time.time()\n",
    "        os.system(\"./../algo3-tp1 ./../instancias/complejidadfb/{}_{}.in 1\".format(i, j))\n",
    "        tiempo += time.time() - start\n",
    "        \n",
    "    tiempos.append(tiempo / k)"
   ]
  },
  {
   "cell_type": "code",
   "execution_count": null,
   "metadata": {},
   "outputs": [],
   "source": []
  }
 ],
 "metadata": {
  "kernelspec": {
   "display_name": "Python 3",
   "language": "python",
   "name": "python3"
  },
  "language_info": {
   "codemirror_mode": {
    "name": "ipython",
    "version": 3
   },
   "file_extension": ".py",
   "mimetype": "text/x-python",
   "name": "python",
   "nbconvert_exporter": "python",
   "pygments_lexer": "ipython3",
   "version": "3.6.5"
  }
 },
 "nbformat": 4,
 "nbformat_minor": 4
}

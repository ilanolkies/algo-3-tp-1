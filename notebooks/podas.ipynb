{
 "cells": [
  {
   "cell_type": "markdown",
   "metadata": {},
   "source": [
    "# Las podas de backtracking\n",
    "\n",
    "El algoritmo de backtracking hace la misma recursión que fuera bruta, pero agrega una estrategia de podas para ramas de dos tipos:\n",
    "- podas por factibilidad: se eliminan las ramas no factibles\n",
    "- podas por optimalidad: se eliminan las ramas que no serán óptimas.\n",
    "\n",
    "Ahora veremos como se comportan ambas podas para distintos conjuntos.\n",
    "\n",
    "Hipotesis:\n",
    "- La poda de factibilidad no es efectiva cuando los $r_i$ son altos y los $w_i$ bajos, pero optimalidad si es efectiva en estas codiciones.\n",
    "- La poda de optimalidad no es efectiva cuando los $w_i$ son altos y los $r_i$ bajos, pero factibilidad si es efectiva en estas codiciones.\n",
    "\n",
    "Para esto haremos el siguiente procedimiento:\n",
    "1. Cremos instancias para distitnso $n$ donde los $r_i$ son altos y los $w_i$ bajos, y otra donde los $w_i$ son altos y los $r_i$ bajos.\n",
    "2. Tomamos muestras de la ejecución de ambas muestras en tres algoritmos propuestos:\n",
    "    1. Backtracking full, ambas podas.\n",
    "    2. Fuerza bruta + poda de factibilidad. Sin poda de optimalidad.\n",
    "    3. Fuerza bruta + poda de optimalidad. Sin poda de factibilidad.\n",
    "3. Graficamos esto en comparación con $f(x) = 2^n$, que seria el comportamiento de backtracking sin ninguna poda."
   ]
  },
  {
   "cell_type": "code",
   "execution_count": 1,
   "metadata": {},
   "outputs": [],
   "source": [
    "import numpy as np\n",
    "import time\n",
    "import os\n",
    "import matplotlib.pyplot as plt\n",
    "from scipy import stats"
   ]
  },
  {
   "cell_type": "code",
   "execution_count": 2,
   "metadata": {},
   "outputs": [],
   "source": [
    "def gen(\n",
    "    ns,\n",
    "    _path,\n",
    "    k = 10,\n",
    "    _R = (5000, 6000),\n",
    "    _w = (1, 10),\n",
    "    _r = (80, 100)\n",
    "):\n",
    "    for i in ns:\n",
    "        for j in range(k):\n",
    "            R = np.random.randint((_R[1] - _R[0])) + _R[0]\n",
    "            w = np.random.randint((_w[1] - _w[0]), size = i) + _w[0]\n",
    "            r = np.random.randint((_r[1] - _r[0]), size = i) + _r[0]\n",
    "            f = open((_path + \"{}_{}.in\").format(i, j), \"x\")\n",
    "            f.write(\"{} {}\\n\".format(i, R))\n",
    "            for l in range(i-1):\n",
    "                f.write(\"{} {}\\n\".format(w[l], r[l]))\n",
    "            f.write(\"{} {}\".format(w[i-1], r[i-1]))\n",
    "            f.close()"
   ]
  },
  {
   "cell_type": "code",
   "execution_count": 3,
   "metadata": {},
   "outputs": [],
   "source": [
    "ns_pesados = np.arange(30, 60)\n",
    "ns_resistentes = np.arange(1, 20)"
   ]
  },
  {
   "cell_type": "code",
   "execution_count": 4,
   "metadata": {},
   "outputs": [],
   "source": [
    "!rm -rf ../instancias/podas\n",
    "!mkdir ../instancias/podas\n",
    "!mkdir ../instancias/podas/pesados\n",
    "!mkdir ../instancias/podas/resistentes\n",
    "\n",
    "_k = 20\n",
    "\n",
    "gen(ns_pesados, \"../instancias/podas/pesados/\", _w = (200, 400), _r = (900, 1000), k = _k)\n"
   ]
  },
  {
   "cell_type": "markdown",
   "metadata": {},
   "source": [
    "Generamos 2 sets de  10 instancias de cada $n$ de 10 a 20.\n",
    "\n",
    "- set _pesados_ con los $w_i$ entre 300 y 400 y los $r_i$ entre 800 y 1000\n",
    "- set _resitentes_ los $w_i$ entre 1 y 100 y los $r_i$ entre 3000 y 4000\n",
    "\n",
    "Ejecutemos los algoritmos en todos los sets!"
   ]
  },
  {
   "cell_type": "code",
   "execution_count": 5,
   "metadata": {},
   "outputs": [],
   "source": [
    "def experimentar(ns, path):\n",
    "    timepos_ambas = []\n",
    "    tiempos_opt = []\n",
    "    tiempos_fact = []\n",
    "\n",
    "    for i in ns:\n",
    "        tiempo_acum_ambas = 0\n",
    "        tiempo_acum_opt = 0\n",
    "        tiempo_acum_fact = 0\n",
    "\n",
    "        for j in range(_k):\n",
    "            start = time.time()\n",
    "            os.system((\"./../algo3-tp1 ./../\" + path + \"{}_{}.in 2\").format(i, j))\n",
    "            tiempo_acum_ambas += time.time() - start\n",
    "\n",
    "            start = time.time()\n",
    "            os.system(\"./../algo3-tp1 ./../\" + path + \"{}_{}.in 5\".format(i, j))\n",
    "            tiempo_acum_opt += time.time() - start\n",
    "\n",
    "            start = time.time()\n",
    "            os.system(\"./../algo3-tp1 ./../\" + path + \"{}_{}.in 4\".format(i, j))\n",
    "            tiempo_acum_fact += time.time() - start \n",
    "\n",
    "\n",
    "        timepos_ambas.append(tiempo_acum_ambas / _k)\n",
    "        tiempos_opt.append(tiempo_acum_opt / _k)\n",
    "        tiempos_fact.append(tiempo_acum_fact / _k)\n",
    "    \n",
    "    return [timepos_ambas, tiempos_opt, tiempos_fact]"
   ]
  },
  {
   "cell_type": "code",
   "execution_count": 6,
   "metadata": {},
   "outputs": [],
   "source": [
    "os.system(\"g++ ../src/main.cpp -o ../algo3-tp1\")\n",
    "\n",
    "y_resistentes = experimentar(ns_resistentes, \"instancias/podas/resistentes/\")"
   ]
  },
  {
   "cell_type": "markdown",
   "metadata": {},
   "source": [
    "Los graficamos:"
   ]
  },
  {
   "cell_type": "code",
   "execution_count": 15,
   "metadata": {},
   "outputs": [
    {
     "data": {
      "image/png": "[encoded data removed]",
      "text/plain": [
       "<Figure size 432x288 with 1 Axes>"
      ]
     },
     "metadata": {
      "needs_background": "light"
     },
     "output_type": "display_data"
    }
   ],
   "source": [
    "plt.scatter(ns_resistentes, y_resistentes[0], color = 'blue', label = \"bt - pesados\")\n",
    "plt.scatter(ns_resistentes, y_resistentes[1], color = 'grey', label = \"sin opt. - pesados\")\n",
    "plt.scatter(ns_resistentes, y_resistentes[2], color = 'yellow', label = \"sin fact. - pesados\")\n",
    "\n",
    "plt.xlabel(\"n - cant. total de productos\")\n",
    "plt.ylabel(\"tiempo de ejec. promedio (s)\")\n",
    "plt.legend()\n",
    "\n",
    "# Show the plot\n",
    "plt.show()"
   ]
  },
  {
   "cell_type": "code",
   "execution_count": 13,
   "metadata": {},
   "outputs": [],
   "source": [
    "y_pesados = experimentar(ns_pesados, \"instancias/podas/pesados/\")"
   ]
  },
  {
   "cell_type": "code",
   "execution_count": 22,
   "metadata": {},
   "outputs": [
    {
     "data": {
      "image/png": "[encoded data removed]",
      "text/plain": [
       "<Figure size 432x288 with 1 Axes>"
      ]
     },
     "metadata": {
      "needs_background": "light"
     },
     "output_type": "display_data"
    }
   ],
   "source": [
    "plt.scatter(ns_pesados, y_pesados[0], color = 'blue', label = \"bt - pesados\")\n",
    "plt.scatter(ns_pesados, y_pesados[1], color = 'orange', label = \"sin opt. - pesados\")\n",
    "plt.scatter(ns_pesados, y_pesados[2], color = 'yellow', label = \"sin fact. - pesados\")\n",
    "\n",
    "plt.xlabel(\"n - cant. total de productos\")\n",
    "plt.ylabel(\"tiempo de ejec. promedio (s)\")\n",
    "plt.legend()\n",
    "\n",
    "# Show the plot\n",
    "plt.show()"
   ]
  },
  {
   "cell_type": "markdown",
   "metadata": {},
   "source": [
    "No se ve muy bien para los resistentes..."
   ]
  },
  {
   "cell_type": "code",
   "execution_count": 17,
   "metadata": {},
   "outputs": [],
   "source": [
    "!rm -rf ../instancias/podas/resistentes\n",
    "!mkdir ../instancias/podas/resistentes\n",
    "ns_resistentes = np.arange(10, 25)\n",
    "gen(ns_resistentes, \"../instancias/podas/resistentes/\", _w = (1, 100), _r = (1000, 1500), k = _k)\n",
    "y_resistentes = experimentar(ns_resistentes, \"instancias/podas/resistentes/\")"
   ]
  },
  {
   "cell_type": "code",
   "execution_count": 21,
   "metadata": {},
   "outputs": [
    {
     "data": {
      "image/png": "[encoded data removed]",
      "text/plain": [
       "<Figure size 432x288 with 1 Axes>"
      ]
     },
     "metadata": {
      "needs_background": "light"
     },
     "output_type": "display_data"
    }
   ],
   "source": [
    "plt.scatter(ns_resistentes, y_resistentes[0], color = 'blue', label = \"bt - pesados\")\n",
    "plt.scatter(ns_resistentes, y_resistentes[1], color = 'orange', label = \"sin opt. - pesados\")\n",
    "plt.scatter(ns_resistentes, y_resistentes[2], color = 'yellow', label = \"sin fact. - pesados\")\n",
    "\n",
    "plt.xlabel(\"n - cant. total de productos\")\n",
    "plt.ylabel(\"tiempo de ejec. promedio (s)\")\n",
    "plt.legend()\n",
    "\n",
    "# Show the plot\n",
    "plt.show()"
   ]
  },
  {
   "cell_type": "code",
   "execution_count": null,
   "metadata": {},
   "outputs": [],
   "source": []
  }
 ],
 "metadata": {
  "kernelspec": {
   "display_name": "Python 3",
   "language": "python",
   "name": "python3"
  },
  "language_info": {
   "codemirror_mode": {
    "name": "ipython",
    "version": 3
   },
   "file_extension": ".py",
   "mimetype": "text/x-python",
   "name": "python",
   "nbconvert_exporter": "python",
   "pygments_lexer": "ipython3",
   "version": "3.6.5"
  }
 },
 "nbformat": 4,
 "nbformat_minor": 4
}

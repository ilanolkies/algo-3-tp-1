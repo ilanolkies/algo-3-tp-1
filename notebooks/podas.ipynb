{
 "cells": [
  {
   "cell_type": "markdown",
   "metadata": {},
   "source": [
    "# Las podas de backtracking\n",
    "\n",
    "El algoritmo de backtracking hace la misma recursión que fuera bruta, pero agrega una estrategia de podas para ramas de dos tipos:\n",
    "- podas por factibilidad: se eliminan las ramas no factibles\n",
    "- podas por optimalidad: se eliminan las ramas que no serán óptimas.\n",
    "\n",
    "Ahora veremos como se comportan ambas podas para distintos conjuntos.\n",
    "\n",
    "Hipotesis:\n",
    "- La poda de factibilidad no es efectiva cuando los $r_i$ son altos y los $w_i$ bajos, pero optimalidad si es efectiva en estas codiciones.\n",
    "- La poda de optimalidad no es efectiva cuando los $w_i$ son altos y los $r_i$ bajos, pero factibilidad si es efectiva en estas codiciones.\n",
    "\n",
    "Para esto haremos el siguiente procedimiento:\n",
    "1. Cremos instancias para distitnso $n$ donde los $r_i$ son altos y los $w_i$ bajos, y otra donde los $w_i$ son altos y los $r_i$ bajos.\n",
    "2. Tomamos muestras de la ejecución de ambas muestras en tres algoritmos propuestos:\n",
    "    1. Backtracking full, ambas podas.\n",
    "    2. Fuerza bruta + poda de factibilidad. Sin poda de optimalidad.\n",
    "    3. Fuerza bruta + poda de optimalidad. Sin poda de factibilidad.\n",
    "\n",
    "3. Graficamos esto en comparación con $f(x) = 2^n$, que seria el comportamiento de backtracking sin ninguna poda."
   ]
  },
  {
   "cell_type": "code",
   "execution_count": 50,
   "metadata": {},
   "outputs": [],
   "source": [
    "# Importamos librerias\n",
    "\n",
    "import numpy as np\n",
    "import time\n",
    "import os\n",
    "import matplotlib.pyplot as plt\n",
    "from scipy import stats"
   ]
  },
  {
   "cell_type": "code",
   "execution_count": 51,
   "metadata": {},
   "outputs": [],
   "source": [
    "# Carpeta general\n",
    "!rm -rf ../instancias/podas\n",
    "!mkdir ../instancias/podas"
   ]
  },
  {
   "cell_type": "code",
   "execution_count": 52,
   "metadata": {},
   "outputs": [],
   "source": [
    "# Generador de instancias\n",
    "\n",
    "def gen(\n",
    "    ns,\n",
    "    _path,\n",
    "    k,\n",
    "    _R = (500000, 600000),\n",
    "    _w = (1, 10),\n",
    "    _r = (80, 100)\n",
    "):\n",
    "    for i in ns:\n",
    "        for j in range(k):\n",
    "            R = np.random.randint((_R[1] - _R[0])) + _R[0]\n",
    "            w = np.random.randint((_w[1] - _w[0]), size = i) + _w[0]\n",
    "            r = np.random.randint((_r[1] - _r[0]), size = i) + _r[0]\n",
    "            f = open((_path + \"{}_{}.in\").format(i, j), \"x\")\n",
    "            f.write(\"{} {}\\n\".format(i, R))\n",
    "            for l in range(i-1):\n",
    "                f.write(\"{} {}\\n\".format(w[l], r[l]))\n",
    "            f.write(\"{} {}\".format(w[i-1], r[i-1]))\n",
    "            f.close()"
   ]
  },
  {
   "cell_type": "code",
   "execution_count": 53,
   "metadata": {},
   "outputs": [],
   "source": [
    "# Experimento\n",
    "\n",
    "def experimentar(ns, path):\n",
    "    timepos_ambas = []\n",
    "    tiempos_opt = []\n",
    "    tiempos_fact = []\n",
    "\n",
    "    for i in ns:\n",
    "        tiempo_acum_ambas = []\n",
    "        tiempo_acum_opt = []\n",
    "        tiempo_acum_fact = []\n",
    "\n",
    "        for j in range(_k):\n",
    "            start = time.time()\n",
    "            os.system((\"./../algo3-tp1 ./../\" + path + \"{}_{}.in 2\").format(i, j))\n",
    "            tiempo_acum_ambas.append(time.time() - start)\n",
    "\n",
    "            start = time.time()\n",
    "            os.system(\"./../algo3-tp1 ./../\" + path + \"{}_{}.in 5\".format(i, j))\n",
    "            tiempo_acum_opt.append(time.time() - start)\n",
    "\n",
    "            start = time.time()\n",
    "            os.system(\"./../algo3-tp1 ./../\" + path + \"{}_{}.in 4\".format(i, j))\n",
    "            tiempo_acum_fact.append(time.time() - start )\n",
    "\n",
    "\n",
    "        timepos_ambas.append(tiempo_acum_ambas)\n",
    "        tiempos_opt.append(tiempo_acum_opt)\n",
    "        tiempos_fact.append(tiempo_acum_fact)\n",
    "    \n",
    "    return [timepos_ambas, tiempos_opt, tiempos_fact]"
   ]
  },
  {
   "cell_type": "code",
   "execution_count": 54,
   "metadata": {},
   "outputs": [],
   "source": [
    "def graf_prom(ns, y, k, color, label):\n",
    "    prom_ambas = [np.mean(y[k][i]) for i in range(len(y[0]))]\n",
    "    plt.plot(ns, prom_ambas, color = color, label = label)\n",
    "\n",
    "def graficar(ns, y, i, color):\n",
    "    rows = [[] for i in range(_k)]\n",
    "    \n",
    "    for j in range(_k):\n",
    "        for k in range(ns.size):\n",
    "            rows[j].append(y[i][k][j])\n",
    "    for j in range(len(rows)):\n",
    "        plt.scatter(ns + i * 0.02, rows[j], color = color, alpha=0.8, s = 10)"
   ]
  },
  {
   "cell_type": "markdown",
   "metadata": {},
   "source": [
    "Generamos 2 sets de 30 instancias de cada $n$ de 15 a 25:\n",
    "\n",
    "- set _pesados_ con los $w_i$ entre 5 y 8 y los $r_i$ entre 40 y 50\n",
    "- set _resitentes_ los $w_i$ entre 3 y 5 y los $r_i$ entre 40 y 50\n",
    "\n",
    "Ejecutemos los algoritmos en todos los sets!"
   ]
  },
  {
   "cell_type": "code",
   "execution_count": 55,
   "metadata": {},
   "outputs": [],
   "source": [
    "# Vamos con los pesados\n",
    "ns_pesados = np.arange(15, 25)\n",
    "_k = 30"
   ]
  },
  {
   "cell_type": "code",
   "execution_count": 56,
   "metadata": {},
   "outputs": [],
   "source": [
    "# Generacion de casos\n",
    "!rm -rf ../instancias/podas/pesados\n",
    "!mkdir ../instancias/podas/pesados\n",
    "gen(ns_pesados, \"../instancias/podas/pesados/\", _k, _w = (5, 8), _r = (40, 50))"
   ]
  },
  {
   "cell_type": "code",
   "execution_count": 57,
   "metadata": {},
   "outputs": [],
   "source": [
    "# Ejecución\n",
    "os.system(\"g++ ../src/main.cpp -o ../algo3-tp1\")\n",
    "y_pesados = experimentar(ns_pesados, \"instancias/podas/pesados/\")"
   ]
  },
  {
   "cell_type": "code",
   "execution_count": 58,
   "metadata": {},
   "outputs": [
    {
     "data": {
      "image/png": "[encoded data removed]",
      "text/plain": [
       "<Figure size 432x288 with 1 Axes>"
      ]
     },
     "metadata": {
      "needs_background": "light"
     },
     "output_type": "display_data"
    }
   ],
   "source": [
    "graf_prom(ns_pesados, y_pesados, 0, 'red', 'ambas')\n",
    "graf_prom(ns_pesados, y_pesados, 1, 'blue', 'solo opt.')\n",
    "graf_prom(ns_pesados, y_pesados, 2, 'cyan', 'solo fact.')\n",
    "plt.legend()\n",
    "graficar(ns_pesados, y_pesados, 0, 'red')\n",
    "graficar(ns_pesados, y_pesados, 1, 'blue')\n",
    "graficar(ns_pesados, y_pesados, 2, 'cyan')\n",
    "\n",
    "plt.xlabel('n - cant. de elementos')\n",
    "plt.ylabel('tiempo prom. de ejec. (s)\\ntiempo de ejec. de cada experimento')\n",
    "\n",
    "plt.show()"
   ]
  },
  {
   "cell_type": "code",
   "execution_count": 59,
   "metadata": {},
   "outputs": [],
   "source": [
    "# Vamos con los resistentes\n",
    "ns_resistentes = np.arange(15, 25)\n",
    "_k = 10"
   ]
  },
  {
   "cell_type": "code",
   "execution_count": 60,
   "metadata": {},
   "outputs": [],
   "source": [
    "# Generacion de casos\n",
    "!rm -rf ../instancias/podas/resistentes\n",
    "!mkdir ../instancias/podas/resistentes\n",
    "gen(ns_resistentes, \"../instancias/podas/resistentes/\", _w = (3, 5), _r = (40, 50), k = _k)"
   ]
  },
  {
   "cell_type": "code",
   "execution_count": 61,
   "metadata": {},
   "outputs": [],
   "source": [
    "# Ejecución\n",
    "os.system(\"g++ ../src/main.cpp -o ../algo3-tp1\")\n",
    "y_resistentes = experimentar(ns_resistentes, \"instancias/podas/resistentes/\")"
   ]
  },
  {
   "cell_type": "code",
   "execution_count": 63,
   "metadata": {},
   "outputs": [
    {
     "data": {
      "image/png": "[encoded data removed]",
      "text/plain": [
       "<Figure size 432x288 with 1 Axes>"
      ]
     },
     "metadata": {
      "needs_background": "light"
     },
     "output_type": "display_data"
    }
   ],
   "source": [
    "graf_prom(ns_resistentes, y_resistentes, 0, 'red', 'ambas')\n",
    "graf_prom(ns_resistentes, y_resistentes, 1, 'blue', 'solo opt.')\n",
    "graf_prom(ns_resistentes, y_rexsistentes, 2, 'cyan', 'solo fact.')\n",
    "plt.legend()\n",
    "graficar(ns_resistentes, y_resistentes, 0, 'red')\n",
    "graficar(ns_resistentes, y_resistentes, 1, 'blue')\n",
    "graficar(ns_resistentes, y_resistentes, 2, 'cyan')\n",
    "\n",
    "plt.xlabel('n - cant. de elementos')\n",
    "plt.ylabel('tiempo prom. de ejec. (s)\\ntiempo de ejec. de cada experimento')\n",
    "\n",
    "plt.show()"
   ]
  }
 ],
 "metadata": {
  "kernelspec": {
   "display_name": "Python 3",
   "language": "python",
   "name": "python3"
  },
  "language_info": {
   "codemirror_mode": {
    "name": "ipython",
    "version": 3
   },
   "file_extension": ".py",
   "mimetype": "text/x-python",
   "name": "python",
   "nbconvert_exporter": "python",
   "pygments_lexer": "ipython3",
   "version": "3.6.5"
  }
 },
 "nbformat": 4,
 "nbformat_minor": 4
}
